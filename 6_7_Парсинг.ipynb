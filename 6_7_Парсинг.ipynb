{
  "nbformat": 4,
  "nbformat_minor": 0,
  "metadata": {
    "colab": {
      "provenance": [],
      "collapsed_sections": [],
      "toc_visible": true,
      "include_colab_link": true
    },
    "kernelspec": {
      "name": "python3",
      "display_name": "Python 3"
    },
    "language_info": {
      "name": "python"
    }
  },
  "cells": [
    {
      "cell_type": "markdown",
      "metadata": {
        "id": "view-in-github",
        "colab_type": "text"
      },
      "source": [
        "<a href=\"https://colab.research.google.com/github/abbat1081/neyromanticki/blob/master/6_7_%D0%9F%D0%B0%D1%80%D1%81%D0%B8%D0%BD%D0%B3.ipynb\" target=\"_parent\"><img src=\"https://colab.research.google.com/assets/colab-badge.svg\" alt=\"Open In Colab\"/></a>"
      ]
    },
    {
      "cell_type": "markdown",
      "metadata": {
        "id": "y5EifHbW899-"
      },
      "source": [
        "#План"
      ]
    },
    {
      "cell_type": "markdown",
      "metadata": {
        "id": "7RKGMYL7-FP-"
      },
      "source": [
        "1. Импорт библиотек\n",
        "2. Получить список адресов по котором будем выполнять пасинг\n",
        "3. Функция парсинга и пополнения списков\n",
        "4. Сохранение в csv"
      ]
    },
    {
      "cell_type": "markdown",
      "metadata": {
        "id": "kGzoKpWy-XQc"
      },
      "source": [
        "##Импорт библиотек"
      ]
    },
    {
      "cell_type": "code",
      "metadata": {
        "id": "fxHpYPeK8WPB"
      },
      "source": [
        "import requests #обращение к данным по ссылке\n",
        "from bs4 import BeautifulSoup # поиск на сайте и парсинг\n",
        "import numpy as np #для работы с массивами\n",
        "import pandas as pd # для создания датафрейма"
      ],
      "execution_count": 1,
      "outputs": []
    },
    {
      "cell_type": "markdown",
      "metadata": {
        "id": "lRR8MgpM-_0I"
      },
      "source": [
        "#Получим список URL"
      ]
    },
    {
      "cell_type": "code",
      "metadata": {
        "id": "H-v13wt8_Dk5"
      },
      "source": [
        "url = 'https://habr.com/ru'\n",
        "firstPage = 352550 # номер  страницы с первым постом\n",
        "lastPage = 352566 # номер страницы с последним постом\n",
        "\n",
        "#функция перебора страниц и добавление в список\n",
        "def get_urls():\n",
        "  listUrl = [] # пустой список\n",
        "  for page in range(firstPage, lastPage):\n",
        "    pageUrl = '{}/post/{}'.format(url, page)\n",
        "    listUrl.append(pageUrl)\n",
        "  return listUrl #возвращаем заполненный список\n"
      ],
      "execution_count": 2,
      "outputs": []
    },
    {
      "cell_type": "code",
      "metadata": {
        "id": "axJG14gLAj-_",
        "outputId": "f5fc3555-7f6a-443d-baf6-590c7c1b091c",
        "colab": {
          "base_uri": "https://localhost:8080/"
        }
      },
      "source": [
        "#кол-во ссылок\n",
        "get_urls()"
      ],
      "execution_count": 3,
      "outputs": [
        {
          "output_type": "execute_result",
          "data": {
            "text/plain": [
              "['https://habr.com/ru/post/352550',\n",
              " 'https://habr.com/ru/post/352551',\n",
              " 'https://habr.com/ru/post/352552',\n",
              " 'https://habr.com/ru/post/352553',\n",
              " 'https://habr.com/ru/post/352554',\n",
              " 'https://habr.com/ru/post/352555',\n",
              " 'https://habr.com/ru/post/352556',\n",
              " 'https://habr.com/ru/post/352557',\n",
              " 'https://habr.com/ru/post/352558',\n",
              " 'https://habr.com/ru/post/352559',\n",
              " 'https://habr.com/ru/post/352560',\n",
              " 'https://habr.com/ru/post/352561',\n",
              " 'https://habr.com/ru/post/352562',\n",
              " 'https://habr.com/ru/post/352563',\n",
              " 'https://habr.com/ru/post/352564',\n",
              " 'https://habr.com/ru/post/352565']"
            ]
          },
          "metadata": {},
          "execution_count": 3
        }
      ]
    },
    {
      "cell_type": "markdown",
      "metadata": {
        "id": "Zx5EJ0TuBBG0"
      },
      "source": [
        "##Функция парсинга и пополнения список"
      ]
    },
    {
      "cell_type": "code",
      "metadata": {
        "id": "A5QGMzerMmzP"
      },
      "source": [
        "import time"
      ],
      "execution_count": 4,
      "outputs": []
    },
    {
      "cell_type": "code",
      "metadata": {
        "id": "aGlNKf-cBECX"
      },
      "source": [
        "# создаем пустые списки, куда будем закачивать информацию с сайта\n",
        "\n",
        "titlesList = [] #создаем пустой список под наши заголовки\n",
        "categoriesList = [] #создаем пустой список под наши категории\n",
        "postList = [] #создаем пустой список для наших постов\n",
        "karmaList = [] #пустой списко для кармы\n",
        "ratingList = [] #пустой список для рейтингов\n",
        "\n",
        "\n",
        "def get_data():\n",
        "\n",
        "  for pageData in get_urls():\n",
        "    fullData =requests.get(pageData) #запрос\n",
        "\n",
        "    if fullData.status_code == 200: #статус - это успешный отклик страницы\n",
        "\n",
        "      soup = BeautifulSoup(fullData.text, 'html5lib') # спарсим страницу сайта\n",
        "\n",
        "      titles = soup.findAll('h1', class_ = 'post__title post__title_full') # парсим заголовки\n",
        "\n",
        "      for title in range(len(titles)):\n",
        "        if titles[title].find('span', class_ = 'post__title-text') is not None:\n",
        "          titlesList.append(titles[title].text.replace('!', ' ')\\\n",
        "                                              .replace('-', '')\\\n",
        "                                              .replace('\\n','')\\\n",
        "                                              .replace('.','').lower().strip())\n",
        "      \n",
        "      categories = soup.findAll('ul', class_ = 'post__hubs post__hubs_full-post inline-list') #парсим категории\n",
        "\n",
        "      for category in range(len(categories)):\n",
        "        if categories[category].find('li', class_ = 'inline-list__item inline-list__item_hub') is not None:\n",
        "          categoriesList.append(categories[category].text.replace('!', ' ')\\\n",
        "                                              .replace('-', '')\\\n",
        "                                              .replace('\\n','')\\\n",
        "                                              .replace('.','').lower().strip())\n",
        "\n",
        "      posts = soup.findAll('div', class_ = 'post__body post__body_full')\n",
        "\n",
        "      for post in range(len(posts)):\n",
        "        if posts[post].find('div', class_ = 'post__text post__text-html post__text_v1') is not None:\n",
        "          postList.append(posts[post].text.replace('!', ' ')\\\n",
        "                                              .replace('-', '')\\\n",
        "                                              .replace('\\n','')\\\n",
        "                                              .replace('.','').lower().strip())\n",
        "    \n",
        "      karmas = soup.findAll('a', class_ = 'user-info__stats-item stacked-counter') \n",
        "\n",
        "      for karma in range(len(karmas)):\n",
        "        if karmas[karma].find('div', class_ = 'stacked-counter__value stacked-counter__value_green ') is not None:\n",
        "          karmaList.append(karmas[karma].text.replace('!', ' ')\\\n",
        "                                              .replace('-', '')\\\n",
        "                                              .replace('\\n','')\\\n",
        "                                              .replace('.','').lower().strip())\n",
        "\n",
        "      ratings = soup.findAll('a', class_ = 'user-info__stats-item stacked-counter stacked-counter_rating')\n",
        "\n",
        "      for rating in range(len(ratings)):\n",
        "        if ratings[rating].find('div', class_ = 'stacked-counter__value stacked-counter__value_magenta') is not None:\n",
        "          ratingList.append(ratings[rating].text.replace('!', ' ')\\\n",
        "                                              .replace('-', '')\\\n",
        "                                              .replace('\\n','')\\\n",
        "                                              .replace('.','').lower().strip())\n",
        "          \n",
        "    time.sleep(2.0) #пауза для обхода блокировки\n",
        "\n",
        "  return titlesList, categoriesList, postList, karmaList, ratingList\n",
        "          \n",
        "\n",
        "\n"
      ],
      "execution_count": 6,
      "outputs": []
    },
    {
      "cell_type": "code",
      "metadata": {
        "id": "BQEvqSfhMPWK",
        "outputId": "c99c68fd-79f8-4b92-e147-fc77e06dede4",
        "colab": {
          "base_uri": "https://localhost:8080/"
        }
      },
      "source": [
        "get_data()"
      ],
      "execution_count": 12,
      "outputs": [
        {
          "output_type": "execute_result",
          "data": {
            "text/plain": [
              "([], [], [], [], [])"
            ]
          },
          "metadata": {},
          "execution_count": 12
        }
      ]
    },
    {
      "cell_type": "code",
      "metadata": {
        "id": "dpqUz5aVVxvk"
      },
      "source": [
        "data_dict = {'title':titlesList, 'categories': categoriesList, 'posts': postList, 'karma': karmaList, 'ratings': ratingList }"
      ],
      "execution_count": 8,
      "outputs": []
    },
    {
      "cell_type": "code",
      "metadata": {
        "colab": {
          "base_uri": "https://localhost:8080/",
          "height": 49
        },
        "id": "m0K9F0A7VfZf",
        "outputId": "45221653-2d84-4a15-c3df-0a34cc963240"
      },
      "source": [
        "datahabr = pd.DataFrame.from_dict(data_dict, orient = 'index')\n",
        "datahabr = datahabr.transpose() #для того чтобы индексы были сверху\n",
        "datahabr.head()"
      ],
      "execution_count": 13,
      "outputs": [
        {
          "output_type": "execute_result",
          "data": {
            "text/plain": [
              "Empty DataFrame\n",
              "Columns: [title, categories, posts, karma, ratings]\n",
              "Index: []"
            ],
            "text/html": [
              "\n",
              "  <div id=\"df-c62ed089-f0be-4dd9-82d1-d1d2900ee925\">\n",
              "    <div class=\"colab-df-container\">\n",
              "      <div>\n",
              "<style scoped>\n",
              "    .dataframe tbody tr th:only-of-type {\n",
              "        vertical-align: middle;\n",
              "    }\n",
              "\n",
              "    .dataframe tbody tr th {\n",
              "        vertical-align: top;\n",
              "    }\n",
              "\n",
              "    .dataframe thead th {\n",
              "        text-align: right;\n",
              "    }\n",
              "</style>\n",
              "<table border=\"1\" class=\"dataframe\">\n",
              "  <thead>\n",
              "    <tr style=\"text-align: right;\">\n",
              "      <th></th>\n",
              "      <th>title</th>\n",
              "      <th>categories</th>\n",
              "      <th>posts</th>\n",
              "      <th>karma</th>\n",
              "      <th>ratings</th>\n",
              "    </tr>\n",
              "  </thead>\n",
              "  <tbody>\n",
              "  </tbody>\n",
              "</table>\n",
              "</div>\n",
              "      <button class=\"colab-df-convert\" onclick=\"convertToInteractive('df-c62ed089-f0be-4dd9-82d1-d1d2900ee925')\"\n",
              "              title=\"Convert this dataframe to an interactive table.\"\n",
              "              style=\"display:none;\">\n",
              "        \n",
              "  <svg xmlns=\"http://www.w3.org/2000/svg\" height=\"24px\"viewBox=\"0 0 24 24\"\n",
              "       width=\"24px\">\n",
              "    <path d=\"M0 0h24v24H0V0z\" fill=\"none\"/>\n",
              "    <path d=\"M18.56 5.44l.94 2.06.94-2.06 2.06-.94-2.06-.94-.94-2.06-.94 2.06-2.06.94zm-11 1L8.5 8.5l.94-2.06 2.06-.94-2.06-.94L8.5 2.5l-.94 2.06-2.06.94zm10 10l.94 2.06.94-2.06 2.06-.94-2.06-.94-.94-2.06-.94 2.06-2.06.94z\"/><path d=\"M17.41 7.96l-1.37-1.37c-.4-.4-.92-.59-1.43-.59-.52 0-1.04.2-1.43.59L10.3 9.45l-7.72 7.72c-.78.78-.78 2.05 0 2.83L4 21.41c.39.39.9.59 1.41.59.51 0 1.02-.2 1.41-.59l7.78-7.78 2.81-2.81c.8-.78.8-2.07 0-2.86zM5.41 20L4 18.59l7.72-7.72 1.47 1.35L5.41 20z\"/>\n",
              "  </svg>\n",
              "      </button>\n",
              "      \n",
              "  <style>\n",
              "    .colab-df-container {\n",
              "      display:flex;\n",
              "      flex-wrap:wrap;\n",
              "      gap: 12px;\n",
              "    }\n",
              "\n",
              "    .colab-df-convert {\n",
              "      background-color: #E8F0FE;\n",
              "      border: none;\n",
              "      border-radius: 50%;\n",
              "      cursor: pointer;\n",
              "      display: none;\n",
              "      fill: #1967D2;\n",
              "      height: 32px;\n",
              "      padding: 0 0 0 0;\n",
              "      width: 32px;\n",
              "    }\n",
              "\n",
              "    .colab-df-convert:hover {\n",
              "      background-color: #E2EBFA;\n",
              "      box-shadow: 0px 1px 2px rgba(60, 64, 67, 0.3), 0px 1px 3px 1px rgba(60, 64, 67, 0.15);\n",
              "      fill: #174EA6;\n",
              "    }\n",
              "\n",
              "    [theme=dark] .colab-df-convert {\n",
              "      background-color: #3B4455;\n",
              "      fill: #D2E3FC;\n",
              "    }\n",
              "\n",
              "    [theme=dark] .colab-df-convert:hover {\n",
              "      background-color: #434B5C;\n",
              "      box-shadow: 0px 1px 3px 1px rgba(0, 0, 0, 0.15);\n",
              "      filter: drop-shadow(0px 1px 2px rgba(0, 0, 0, 0.3));\n",
              "      fill: #FFFFFF;\n",
              "    }\n",
              "  </style>\n",
              "\n",
              "      <script>\n",
              "        const buttonEl =\n",
              "          document.querySelector('#df-c62ed089-f0be-4dd9-82d1-d1d2900ee925 button.colab-df-convert');\n",
              "        buttonEl.style.display =\n",
              "          google.colab.kernel.accessAllowed ? 'block' : 'none';\n",
              "\n",
              "        async function convertToInteractive(key) {\n",
              "          const element = document.querySelector('#df-c62ed089-f0be-4dd9-82d1-d1d2900ee925');\n",
              "          const dataTable =\n",
              "            await google.colab.kernel.invokeFunction('convertToInteractive',\n",
              "                                                     [key], {});\n",
              "          if (!dataTable) return;\n",
              "\n",
              "          const docLinkHtml = 'Like what you see? Visit the ' +\n",
              "            '<a target=\"_blank\" href=https://colab.research.google.com/notebooks/data_table.ipynb>data table notebook</a>'\n",
              "            + ' to learn more about interactive tables.';\n",
              "          element.innerHTML = '';\n",
              "          dataTable['output_type'] = 'display_data';\n",
              "          await google.colab.output.renderOutput(dataTable, element);\n",
              "          const docLink = document.createElement('div');\n",
              "          docLink.innerHTML = docLinkHtml;\n",
              "          element.appendChild(docLink);\n",
              "        }\n",
              "      </script>\n",
              "    </div>\n",
              "  </div>\n",
              "  "
            ]
          },
          "metadata": {},
          "execution_count": 13
        }
      ]
    },
    {
      "cell_type": "markdown",
      "metadata": {
        "id": "zl4u93SMWqbG"
      },
      "source": [
        "##сохранение в csv"
      ]
    },
    {
      "cell_type": "code",
      "metadata": {
        "id": "zzhPafUdWtWV"
      },
      "source": [
        "datahabr.to_csv('habr_.csv', sep = ',', index = False) # сохранение в csv"
      ],
      "execution_count": 14,
      "outputs": []
    }
  ]
}